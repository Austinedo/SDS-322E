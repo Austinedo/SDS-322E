{
 "cells": [
  {
   "cell_type": "markdown",
   "metadata": {},
   "source": [
    "# Worksheet 22: Introduction to Python"
   ]
  },
  {
   "cell_type": "markdown",
   "metadata": {},
   "source": [
    "Jupyter Notebooks are convenient to organize our code with some text!"
   ]
  },
  {
   "cell_type": "markdown",
   "metadata": {},
   "source": [
    "### 1. Set up"
   ]
  },
  {
   "cell_type": "code",
   "execution_count": null,
   "metadata": {},
   "outputs": [],
   "source": [
    "# IMPORTANT\n",
    "# Running this chunk lets you have multiple outputs from a single chunk; run it first!\n",
    "from IPython.core.interactiveshell import InteractiveShell\n",
    "InteractiveShell.ast_node_interactivity = \"all\""
   ]
  },
  {
   "cell_type": "markdown",
   "metadata": {},
   "source": [
    "We will use different packages today but will load them as we learn!"
   ]
  },
  {
   "cell_type": "markdown",
   "metadata": {},
   "source": [
    "### 2. Basics in Python\n",
    "\n",
    "Let's first talk about different types of objects and assignments:"
   ]
  },
  {
   "cell_type": "code",
   "execution_count": null,
   "metadata": {},
   "outputs": [],
   "source": [
    "# Create an object and print\n",
    "one = 1\n",
    "one"
   ]
  },
  {
   "cell_type": "code",
   "execution_count": null,
   "metadata": {},
   "outputs": [],
   "source": [
    "# Create two objects at once, separate names by a comma then separate assignments by a comma\n",
    "two, four = one + one, 4*one\n",
    "two\n",
    "four"
   ]
  },
  {
   "cell_type": "code",
   "execution_count": null,
   "metadata": {},
   "outputs": [],
   "source": [
    "# Create a list of numbers from 1 to (not including) 7, by 2\n",
    "alist = list(range(1,7,2))\n",
    "alist"
   ]
  },
  {
   "cell_type": "code",
   "execution_count": null,
   "metadata": {},
   "outputs": [],
   "source": [
    "# Some basic built-in functions\n",
    "len(alist)\n",
    "min(alist)\n",
    "max(alist)"
   ]
  },
  {
   "cell_type": "markdown",
   "metadata": {},
   "source": [
    "Quick indexing in Python is also done using `[]` but since Python begins counting at 0, the first element is at the 0th position. In general, the nth element is located in the (n−1)th position."
   ]
  },
  {
   "cell_type": "code",
   "execution_count": null,
   "metadata": {},
   "outputs": [],
   "source": [
    "alist[0]"
   ]
  },
  {
   "cell_type": "markdown",
   "metadata": {},
   "source": [
    "### 3. Working with arrays in NumPy\n",
    "\n",
    "The package `NumPy` has many built-in functions that we can use when working with data structures. When importing a package, we usually give it a short name. Then we will call functions from this package using the abbreviation:"
   ]
  },
  {
   "cell_type": "code",
   "execution_count": null,
   "metadata": {},
   "outputs": [],
   "source": [
    "# Import a new package\n",
    "import numpy as np"
   ]
  },
  {
   "cell_type": "markdown",
   "metadata": {},
   "source": [
    "We can create an array which is actually a vector:"
   ]
  },
  {
   "cell_type": "code",
   "execution_count": null,
   "metadata": {},
   "outputs": [],
   "source": [
    "# Create an array (vector) instead of a list\n",
    "anarray = np.array(range(1,7,2)) # array is from the numpy package\n",
    "anarray"
   ]
  },
  {
   "cell_type": "markdown",
   "metadata": {},
   "source": [
    "We can do operations on arrays which we did not work out with lists: "
   ]
  },
  {
   "cell_type": "code",
   "execution_count": null,
   "metadata": {},
   "outputs": [],
   "source": [
    "# Operations on elements of arrays\n",
    "alist*2 # multiply a list by 2\n",
    "anarray*2 # multiply an array by 2"
   ]
  },
  {
   "cell_type": "markdown",
   "metadata": {},
   "source": [
    "`NumPy` also has functions that are very useful to create summaries:"
   ]
  },
  {
   "cell_type": "code",
   "execution_count": null,
   "metadata": {},
   "outputs": [],
   "source": [
    "# Operations on arrays\n",
    "np.sum(anarray) # sum of elements\n",
    "\n",
    "np.mean(anarray) # mean of elements\n",
    "\n",
    "np.std(anarray) # standard deviation of elements"
   ]
  },
  {
   "cell_type": "markdown",
   "metadata": {},
   "source": [
    "#### Think! What other measure do we report along the mean? Why?"
   ]
  },
  {
   "cell_type": "markdown",
   "metadata": {},
   "source": [
    "### 4. Working with data frames in Pandas\n",
    "\n",
    "Objects in `pandas` can be thought as enhanced versions of `Numpy` structured arrays in which the rows and columns are identified with labels rather than integer indices."
   ]
  },
  {
   "cell_type": "code",
   "execution_count": null,
   "metadata": {},
   "outputs": [],
   "source": [
    "# Import a new package\n",
    "import pandas as pd"
   ]
  },
  {
   "cell_type": "markdown",
   "metadata": {},
   "source": [
    "One very useful structure for us: data frames!"
   ]
  },
  {
   "cell_type": "code",
   "execution_count": null,
   "metadata": {},
   "outputs": [],
   "source": [
    "# Create a data frame\n",
    "df = pd.DataFrame([{'var1': 1, 'var2': 2}, {'var1': 3, 'var2': 4}])\n",
    "df\n",
    "\n",
    "df.index # Look at the rows\n",
    "\n",
    "df.columns # Look at the columns\n",
    "\n",
    "df.var1 # Look at the second variable"
   ]
  },
  {
   "cell_type": "markdown",
   "metadata": {},
   "source": [
    "The `pandas` package contains functions for data wrangling that are similar to `dplyr` in R."
   ]
  },
  {
   "cell_type": "markdown",
   "metadata": {},
   "source": [
    "| dplyr     | pandas      |\n",
    "|-----------|-------------|\n",
    "| select    | filter      |\n",
    "| filter    | query       |\n",
    "| arrange   | sort_values |\n",
    "| group_by  | groupby     |\n",
    "| mutate    | assign      |\n",
    "| summarize | agg         |"
   ]
  },
  {
   "cell_type": "markdown",
   "metadata": {},
   "source": [
    "We'll do some data wrangling with a dataset next."
   ]
  },
  {
   "cell_type": "markdown",
   "metadata": {},
   "source": [
    "### 5. Working with existing datasets in Seaborn\n",
    "\n",
    "Some built-in datasets are contained in the `seaborn` package which is also a library for making visualizations in Python. "
   ]
  },
  {
   "cell_type": "code",
   "execution_count": null,
   "metadata": {},
   "outputs": [],
   "source": [
    "# Import a new package\n",
    "import seaborn as sns"
   ]
  },
  {
   "cell_type": "code",
   "execution_count": null,
   "metadata": {},
   "outputs": [],
   "source": [
    "# Load dataset from library\n",
    "iris = sns.load_dataset('iris')"
   ]
  },
  {
   "cell_type": "markdown",
   "metadata": {},
   "source": [
    "Instead of pipes in Python, we can do a chain with `.`:"
   ]
  },
  {
   "cell_type": "code",
   "execution_count": null,
   "metadata": {},
   "outputs": [],
   "source": [
    "# Take a look\n",
    "iris.head() "
   ]
  },
  {
   "cell_type": "code",
   "execution_count": null,
   "metadata": {},
   "outputs": [],
   "source": [
    "# An example of data wrangling with Python\n",
    "(iris.filter(['species', 'petal_length', 'petal_width']) # keep some variables\n",
    ".query('species == \"setosa\"') # keep some observations\n",
    ".agg(['mean'])) # calculate the mean"
   ]
  },
  {
   "cell_type": "markdown",
   "metadata": {},
   "source": [
    "### 6. Visualizing data with Matplotlib and Seaborn\n",
    "\n",
    "Both `matplotlib` and `seaborn` contain functions to make visualizations in Python."
   ]
  },
  {
   "cell_type": "code",
   "execution_count": null,
   "metadata": {},
   "outputs": [],
   "source": [
    "# Import a new package\n",
    "import matplotlib.pyplot as plt"
   ]
  },
  {
   "cell_type": "code",
   "execution_count": null,
   "metadata": {},
   "outputs": [],
   "source": [
    "# Create a bar graph\n",
    "counts = iris['species'].value_counts() # find counts\n",
    "plt.bar(counts.index, counts.values)"
   ]
  },
  {
   "cell_type": "code",
   "execution_count": null,
   "metadata": {},
   "outputs": [],
   "source": [
    "# Create a histogram\n",
    "plt.hist(x = iris['petal_length'], bins = [1,2,3,4,5,6,7], edgecolor=\"black\") # define bins\n",
    "plt.xlabel('Petal Length (cm)') # label x-axis\n",
    "plt.title('A simple histogram') # give a title"
   ]
  },
  {
   "cell_type": "markdown",
   "metadata": {},
   "source": [
    "#### Think! Why is it important to define bins for a histogram?\n"
   ]
  },
  {
   "cell_type": "code",
   "execution_count": null,
   "metadata": {},
   "outputs": [],
   "source": [
    "# Create a scatterplot\n",
    "plt.plot(iris['petal_length'], iris['petal_width'], linestyle = 'none', marker = 'o')\n",
    "plt.xlabel('Petal Length (cm)') # label x-axis\n",
    "plt.ylabel('Petal width (cm)') # label y-axis\n",
    "plt.title('A simple scatterplot') # give a title"
   ]
  },
  {
   "cell_type": "code",
   "execution_count": null,
   "metadata": {},
   "outputs": [],
   "source": [
    "# Seaborn is a more versatile data visualization package\n",
    "sns.scatterplot(x=\"petal_length\", y=\"petal_width\", data=iris, hue='species')\n",
    "plt.xlabel('Petal Length (cm)') # label x-axis\n",
    "plt.ylabel('Petal width (cm)') # label y-axis\n",
    "plt.title('A more elaborate scatterplot') # give a title"
   ]
  },
  {
   "cell_type": "code",
   "execution_count": null,
   "metadata": {},
   "outputs": [],
   "source": [
    "# Join different plots into one!\n",
    "sns.jointplot(x=\"petal_length\", y=\"petal_width\", data=iris, kind='reg')"
   ]
  },
  {
   "cell_type": "code",
   "execution_count": null,
   "metadata": {},
   "outputs": [],
   "source": [
    "# Look at the strength of the relationships between the variables with a correlation matrix\n",
    "sns.heatmap(iris.corr(), annot=True)"
   ]
  },
  {
   "cell_type": "markdown",
   "metadata": {},
   "source": [
    "A very useful website to decide on appropriate visualizations and how to make them in Python: https://www.python-graph-gallery.com/"
   ]
  },
  {
   "cell_type": "markdown",
   "metadata": {},
   "source": [
    "### 7. Making predictions/classification with Scikit-learn\n",
    "\n",
    "`Scikit-learn` is an open source machine learning library that supports supervised and unsupervised learning. It provides various tools for regression, classification, cross-validation, and model evaluation (and many other common tasks in Machine Learning)."
   ]
  },
  {
   "cell_type": "markdown",
   "metadata": {},
   "source": [
    "#### 7.a. Predict a numeric variable\n",
    "\n",
    "We will predict the petal length of an iris flowers based on the other variables of the flower with linear regression."
   ]
  },
  {
   "cell_type": "code",
   "execution_count": null,
   "metadata": {},
   "outputs": [],
   "source": [
    "# Import new packages\n",
    "from sklearn.model_selection import train_test_split\n",
    "from sklearn.linear_model import LinearRegression\n",
    "from sklearn.metrics import mean_squared_error"
   ]
  },
  {
   "cell_type": "markdown",
   "metadata": {},
   "source": [
    "In Python, we usually separate the independent variables/predictors from the outcome/response variable."
   ]
  },
  {
   "cell_type": "code",
   "execution_count": null,
   "metadata": {},
   "outputs": [],
   "source": [
    "# Separate predictors and response\n",
    "X_petal = iris.drop(columns=['petal_length','species']) # drop outcome and species\n",
    "y_petal = iris['petal_length']"
   ]
  },
  {
   "cell_type": "markdown",
   "metadata": {},
   "source": [
    "#### Think! Why do we usually build a model by splitting the data into train and test sets?\n"
   ]
  },
  {
   "cell_type": "code",
   "execution_count": null,
   "metadata": {},
   "outputs": [],
   "source": [
    "# Split data into train and test sets\n",
    "X_train_petal, X_test_petal, y_train_petal, y_test_petal = train_test_split(X_petal, y_petal, test_size=0.3)"
   ]
  },
  {
   "cell_type": "markdown",
   "metadata": {},
   "source": [
    "Now, we can define our model: which algorithm to use based on which set of predictors/response."
   ]
  },
  {
   "cell_type": "code",
   "execution_count": null,
   "metadata": {},
   "outputs": [],
   "source": [
    "# Perform linear regression\n",
    "petal_length_model = LinearRegression()\n",
    "petal_length_model.fit(X_train_petal, y_train_petal)"
   ]
  },
  {
   "cell_type": "markdown",
   "metadata": {},
   "source": [
    "Use the model to make predictions:"
   ]
  },
  {
   "cell_type": "code",
   "execution_count": null,
   "metadata": {},
   "outputs": [],
   "source": [
    "# Predict on test set\n",
    "y_pred_petal = petal_length_model.predict(X_test_petal)\n",
    "print(y_pred_petal)"
   ]
  },
  {
   "cell_type": "markdown",
   "metadata": {},
   "source": [
    "Finally, we need to evaluate the performance of our model."
   ]
  },
  {
   "cell_type": "markdown",
   "metadata": {},
   "source": [
    "#### Think! What measure of performance do we typically use to evaluate a linear regression model?\n"
   ]
  },
  {
   "cell_type": "markdown",
   "metadata": {},
   "source": [
    "#### 7.b. Classify a categorical variable"
   ]
  },
  {
   "cell_type": "markdown",
   "metadata": {},
   "source": [
    "The iris flowers in the dataset come from 3 different species. Can we predict from which species a flower is if we know its petal and sepal length/width? Let's try to use a K-Nearest-Neighbors model:"
   ]
  },
  {
   "cell_type": "code",
   "execution_count": null,
   "metadata": {},
   "outputs": [],
   "source": [
    "# Import new packages\n",
    "from sklearn.neighbors import KNeighborsClassifier\n",
    "from sklearn.metrics import accuracy_score"
   ]
  },
  {
   "cell_type": "markdown",
   "metadata": {},
   "source": [
    "As usual in Python, separate the independent variables/predictors from the outcome/response variable then split the data into train and test sets:"
   ]
  },
  {
   "cell_type": "code",
   "execution_count": null,
   "metadata": {},
   "outputs": [],
   "source": [
    "# Separate predictors and response\n",
    "X_species = iris.drop(columns=['species'])\n",
    "y_species = iris['species']\n",
    "\n",
    "# Split data into train and test sets\n",
    "X_train_species, X_test_species, y_train_species, y_test_species = train_test_split(X_species, y_species, test_size=0.3)"
   ]
  },
  {
   "cell_type": "code",
   "execution_count": null,
   "metadata": {},
   "outputs": [],
   "source": [
    "# Fit a kNN model with 5 nearest neighbors\n",
    "species_model = KNeighborsClassifier(n_neighbors = 5)\n",
    "species_model.fit(X_species, y_species)"
   ]
  },
  {
   "cell_type": "markdown",
   "metadata": {},
   "source": [
    "Use the model to make predictions:"
   ]
  },
  {
   "cell_type": "code",
   "execution_count": null,
   "metadata": {},
   "outputs": [],
   "source": [
    "# Predict on test set\n",
    "y_pred_species = species_model.predict(X_test_species)\n",
    "print(y_pred_species)"
   ]
  },
  {
   "cell_type": "markdown",
   "metadata": {},
   "source": [
    "#### Think! What measure of performance do we typically use to evaluate a linear regression model?\n"
   ]
  }
 ],
 "metadata": {
  "kernelspec": {
   "display_name": "Python 3 (ipykernel)",
   "language": "python",
   "name": "python3"
  },
  "language_info": {
   "codemirror_mode": {
    "name": "ipython",
    "version": 3
   },
   "file_extension": ".py",
   "mimetype": "text/x-python",
   "name": "python",
   "nbconvert_exporter": "python",
   "pygments_lexer": "ipython3",
   "version": "3.8.10"
  }
 },
 "nbformat": 4,
 "nbformat_minor": 2
}
